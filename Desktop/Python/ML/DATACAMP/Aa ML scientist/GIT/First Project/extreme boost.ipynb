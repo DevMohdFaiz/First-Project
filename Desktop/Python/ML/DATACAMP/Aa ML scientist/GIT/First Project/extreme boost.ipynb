{
 "cells": [
  {
   "cell_type": "markdown",
   "id": "038d71ad",
   "metadata": {},
   "source": [
    "pip install pandas numpy seaborn matplotlib scikit-learn graphviz xgboost"
   ]
  },
  {
   "cell_type": "code",
   "execution_count": 21,
   "id": "f31e0ca0-f6c6-4648-837e-d7970a923570",
   "metadata": {},
   "outputs": [],
   "source": [
    "import pandas as pd\n",
    "import numpy as np\n",
    "import seaborn as sns\n",
    "import matplotlib.pyplot as plt\n",
    "from urllib.request import urlretrieve\n",
    "import xgboost\n",
    "# 3800+3800"
   ]
  },
  {
   "cell_type": "code",
   "execution_count": 23,
   "id": "748c2af6-d777-406c-928c-ae802c39889c",
   "metadata": {},
   "outputs": [],
   "source": [
    "churn = pd.read_csv('telecom_churn_clean.csv')"
   ]
  },
  {
   "cell_type": "code",
   "execution_count": 24,
   "id": "a372689a-6f6e-4c67-949d-63e53e68cc8e",
   "metadata": {},
   "outputs": [],
   "source": [
    "from sklearn.model_selection import train_test_split\n",
    "X = churn.drop('churn', axis=1)\n",
    "y = churn['churn']\n",
    "X_train, X_test, y_train, y_test = train_test_split(X, y, test_size=0.3)\n",
    "from sklearn.preprocessing import StandardScaler\n",
    "scaler = StandardScaler()\n",
    "X_train_scaled = scaler.fit_transform(X_train)\n",
    "X_test_scaled = scaler.fit_transform(X_test)"
   ]
  },
  {
   "cell_type": "code",
   "execution_count": 25,
   "id": "b34bd9f4-b71f-4b0c-a9f9-8500e3d03d64",
   "metadata": {},
   "outputs": [
    {
     "data": {
      "text/plain": [
       "0.955"
      ]
     },
     "execution_count": 25,
     "metadata": {},
     "output_type": "execute_result"
    }
   ],
   "source": [
    "from sklearn.linear_model import Lasso\n",
    "from sklearn.ensemble import RandomForestClassifier\n",
    "from sklearn.metrics import accuracy_score\n",
    "lasso =Lasso()\n",
    "lasso.fit(X_train_scaled, y_train)\n",
    "r = RandomForestClassifier()\n",
    "r.fit(X_train_scaled, y_train)\n",
    "r.score(X_train_scaled, y_train)\n",
    "y_preds = r.predict(X_test_scaled)\n",
    "accuracy_score(y_test, y_preds)"
   ]
  },
  {
   "cell_type": "code",
   "execution_count": 26,
   "id": "cac4afa2-cca5-410f-9c95-4ec7e38ce9a5",
   "metadata": {},
   "outputs": [
    {
     "data": {
      "text/plain": [
       "0.953"
      ]
     },
     "execution_count": 26,
     "metadata": {},
     "output_type": "execute_result"
    }
   ],
   "source": [
    "import xgboost\n",
    "xgb = xgboost.XGBClassifier(objective='binary:logistic', n_estimators=100)\n",
    "xgb.fit(X_train, y_train)\n",
    "y_preds = xgb.predict(X_test)\n",
    "accuracy_score(y_test, y_preds)"
   ]
  },
  {
   "cell_type": "code",
   "execution_count": 27,
   "id": "431572b2-b0cc-4067-9eb3-3639eea568c3",
   "metadata": {},
   "outputs": [
    {
     "data": {
      "text/plain": [
       "0.953"
      ]
     },
     "execution_count": 27,
     "metadata": {},
     "output_type": "execute_result"
    }
   ],
   "source": [
    "sum(y_preds==y_test)/y_test.shape[0]\n"
   ]
  },
  {
   "cell_type": "code",
   "execution_count": 31,
   "id": "c9466f3d-5a42-4cb8-b452-45a3ffd23be6",
   "metadata": {},
   "outputs": [
    {
     "name": "stderr",
     "output_type": "stream",
     "text": [
      "C:\\Users\\hp\\anaconda3\\Lib\\site-packages\\sklearn\\base.py:486: UserWarning: X has feature names, but DecisionTreeClassifier was fitted without feature names\n",
      "  warnings.warn(\n"
     ]
    }
   ],
   "source": [
    "heart = pd.read_csv('heart-disease.csv')\n",
    "X = heart.drop('target', axis=1)\n",
    "y = heart['target']\n",
    "X_train, X_test, y_train, y_test = train_test_split(X, y, test_size=0.3)\n",
    "from sklearn.tree import DecisionTreeClassifier\n",
    "dt_clf= DecisionTreeClassifier(max_depth=3)\n",
    "X_train_scaled = scaler.fit_transform(X_train)\n",
    "X_test_scaled = scaler.fit_transform(X_test)\n",
    "dt_clf.fit(X_train, y_train)\n",
    "dt_clf.fit(X_train_scaled, y_train)\n",
    "y_scaled_preds = dt_clf.predict(X_test_scaled)\n",
    "y_preds = dt_clf.predict(X_test)"
   ]
  },
  {
   "cell_type": "code",
   "execution_count": 32,
   "id": "562c0204-3bc9-4f2b-97b9-c8868aa310c1",
   "metadata": {},
   "outputs": [
    {
     "name": "stdout",
     "output_type": "stream",
     "text": [
      "0.7802197802197802\n",
      "0.7032967032967034\n"
     ]
    }
   ],
   "source": [
    "print(accuracy_score(y_test, y_scaled_preds))\n",
    "print(accuracy_score(y_test, y_preds))"
   ]
  },
  {
   "cell_type": "code",
   "execution_count": 33,
   "id": "d06b3085-3fdd-43ad-ac91-4b08971c2ecd",
   "metadata": {},
   "outputs": [
    {
     "name": "stdout",
     "output_type": "stream",
     "text": [
      "0.7692307692307693\n"
     ]
    }
   ],
   "source": [
    "xg =xgboost.XGBClassifier(objective='binary:logistic')\n",
    "xg.fit(X_train, y_train)\n",
    "y_preds = xg.predict(X_test)\n",
    "print(accuracy_score(y_test, y_preds))"
   ]
  },
  {
   "cell_type": "code",
   "execution_count": 34,
   "id": "0c2f6246-e05e-4807-bb7d-b90cc2f21e0b",
   "metadata": {},
   "outputs": [
    {
     "name": "stdout",
     "output_type": "stream",
     "text": [
      "0.8021978021978022\n"
     ]
    }
   ],
   "source": [
    "xg =xgboost.XGBClassifier(objective='binary:logistic')\n",
    "xg.fit(X_train_scaled, y_train)\n",
    "y_preds = xg.predict(X_test_scaled)\n",
    "print(accuracy_score(y_test, y_preds))"
   ]
  },
  {
   "cell_type": "code",
   "execution_count": 35,
   "id": "0c2cbff1-7620-4be0-8523-2c8ac1002ce1",
   "metadata": {},
   "outputs": [
    {
     "data": {
      "text/plain": [
       "0.8073593073593074"
      ]
     },
     "execution_count": 35,
     "metadata": {},
     "output_type": "execute_result"
    }
   ],
   "source": [
    "from sklearn.model_selection import cross_val_score\n",
    "dt_clf = DecisionTreeClassifier(max_depth=3)\n",
    "# params = {'max_depth': [1,2,4,6], 'max_leaf_node,}\n",
    "cv = cross_val_score(dt_clf, X_train, y_train, cv=10)\n",
    "np.mean(cv)"
   ]
  },
  {
   "cell_type": "code",
   "execution_count": 36,
   "id": "8a36e29f-165d-4b66-98cf-6f73568ec716",
   "metadata": {},
   "outputs": [
    {
     "data": {
      "text/plain": [
       "0.16669874196336137"
      ]
     },
     "execution_count": 36,
     "metadata": {},
     "output_type": "execute_result"
    }
   ],
   "source": [
    "np.mean(X_train_scaled[2])"
   ]
  },
  {
   "cell_type": "code",
   "execution_count": 37,
   "id": "3a0dbedb-1204-4113-a1b4-4bd3421c4fcf",
   "metadata": {},
   "outputs": [
    {
     "data": {
      "text/plain": [
       "0.946"
      ]
     },
     "execution_count": 37,
     "metadata": {},
     "output_type": "execute_result"
    }
   ],
   "source": [
    "X = churn.drop('churn', axis=1)\n",
    "y = churn['churn']\n",
    "X_train, X_test, y_train, y_test = train_test_split(X, y, test_size=0.3)\n",
    "xg_clf = xgboost.XGBClassifier(objective='binary:logistic')\n",
    "xg_clf.fit(X_train, y_train)\n",
    "y_preds=xg_clf.predict(X_test)\n",
    "accuracy_score(y_test, y_preds)"
   ]
  },
  {
   "cell_type": "code",
   "execution_count": 38,
   "id": "297a3217-5de1-4f4a-bf45-f7f1c8755a8d",
   "metadata": {},
   "outputs": [
    {
     "data": {
      "text/plain": [
       "[<matplotlib.lines.Line2D at 0x20f5a24d2b0>]"
      ]
     },
     "execution_count": 38,
     "metadata": {},
     "output_type": "execute_result"
    },
    {
     "data": {
      "image/png": "[encoded data removed]",
      "text/plain": [
       "<Figure size 640x480 with 1 Axes>"
      ]
     },
     "metadata": {},
     "output_type": "display_data"
    }
   ],
   "source": [
    "from sklearn.metrics import roc_curve\n",
    "y_preds_probs =  xg_clf.predict_proba(X_test)\n",
    "fpr, tpr, threshold = roc_curve(y_test, y_preds_probs[:,1])\n",
    "plt.plot(fpr, tpr)"
   ]
  },
  {
   "cell_type": "code",
   "execution_count": 39,
   "id": "7653d0a9-d09e-4db4-9d0f-07ae52c132ed",
   "metadata": {},
   "outputs": [
    {
     "data": {
      "text/html": [
       "<div>\n",
       "<style scoped>\n",
       "    .dataframe tbody tr th:only-of-type {\n",
       "        vertical-align: middle;\n",
       "    }\n",
       "\n",
       "    .dataframe tbody tr th {\n",
       "        vertical-align: top;\n",
       "    }\n",
       "\n",
       "    .dataframe thead th {\n",
       "        text-align: right;\n",
       "    }\n",
       "</style>\n",
       "<table border=\"1\" class=\"dataframe\">\n",
       "  <thead>\n",
       "    <tr style=\"text-align: right;\">\n",
       "      <th></th>\n",
       "      <th>train-error-mean</th>\n",
       "      <th>train-error-std</th>\n",
       "      <th>test-error-mean</th>\n",
       "      <th>test-error-std</th>\n",
       "    </tr>\n",
       "  </thead>\n",
       "  <tbody>\n",
       "    <tr>\n",
       "      <th>0</th>\n",
       "      <td>0.144914</td>\n",
       "      <td>0.002295</td>\n",
       "      <td>0.144914</td>\n",
       "      <td>0.004590</td>\n",
       "    </tr>\n",
       "    <tr>\n",
       "      <th>1</th>\n",
       "      <td>0.093009</td>\n",
       "      <td>0.002215</td>\n",
       "      <td>0.100810</td>\n",
       "      <td>0.007087</td>\n",
       "    </tr>\n",
       "    <tr>\n",
       "      <th>2</th>\n",
       "      <td>0.087759</td>\n",
       "      <td>0.002235</td>\n",
       "      <td>0.095410</td>\n",
       "      <td>0.001273</td>\n",
       "    </tr>\n",
       "    <tr>\n",
       "      <th>3</th>\n",
       "      <td>0.080708</td>\n",
       "      <td>0.002658</td>\n",
       "      <td>0.090909</td>\n",
       "      <td>0.004590</td>\n",
       "    </tr>\n",
       "    <tr>\n",
       "      <th>4</th>\n",
       "      <td>0.070807</td>\n",
       "      <td>0.009063</td>\n",
       "      <td>0.082208</td>\n",
       "      <td>0.008454</td>\n",
       "    </tr>\n",
       "  </tbody>\n",
       "</table>\n",
       "</div>"
      ],
      "text/plain": [
       "   train-error-mean  train-error-std  test-error-mean  test-error-std\n",
       "0          0.144914         0.002295         0.144914        0.004590\n",
       "1          0.093009         0.002215         0.100810        0.007087\n",
       "2          0.087759         0.002235         0.095410        0.001273\n",
       "3          0.080708         0.002658         0.090909        0.004590\n",
       "4          0.070807         0.009063         0.082208        0.008454"
      ]
     },
     "execution_count": 39,
     "metadata": {},
     "output_type": "execute_result"
    }
   ],
   "source": [
    "import xgboost as xgb\n",
    "X = churn.drop('churn', axis=1)\n",
    "y = churn['churn']\n",
    "# X_train, X_test, y_train, y_test = train_test_split(X, y, test_size=0.3)\n",
    "churn_dmatrix = xgb.DMatrix(data=X, label=y) \n",
    "params = {'objective':'reg:logistic', 'max_depth':3}\n",
    "cv_results = xgb.cv(dtrain=churn_dmatrix, params=params, nfold=3, num_boost_round=5, metrics='error', as_pandas=True)\n",
    "cv_results\n",
    "# xg_clf.fit(X_train, y_train)\n",
    "# y_preds=xg_clf.predict(X_test)\n",
    "# accuracy_score(y_test, y_preds)"
   ]
  },
  {
   "cell_type": "code",
   "execution_count": 40,
   "id": "b0a66981-57a4-428e-9d1a-b951a3d2ab20",
   "metadata": {},
   "outputs": [
    {
     "data": {
      "text/plain": [
       "91.77917791779177"
      ]
     },
     "execution_count": 40,
     "metadata": {},
     "output_type": "execute_result"
    }
   ],
   "source": [
    "(1-cv_results['test-error-mean'].iloc[-1])*100"
   ]
  },
  {
   "cell_type": "code",
   "execution_count": 41,
   "id": "bb14ea26-c0ab-4a4f-a1e5-61858b9cbb0a",
   "metadata": {},
   "outputs": [
    {
     "data": {
      "text/html": [
       "<div>\n",
       "<style scoped>\n",
       "    .dataframe tbody tr th:only-of-type {\n",
       "        vertical-align: middle;\n",
       "    }\n",
       "\n",
       "    .dataframe tbody tr th {\n",
       "        vertical-align: top;\n",
       "    }\n",
       "\n",
       "    .dataframe thead th {\n",
       "        text-align: right;\n",
       "    }\n",
       "</style>\n",
       "<table border=\"1\" class=\"dataframe\">\n",
       "  <thead>\n",
       "    <tr style=\"text-align: right;\">\n",
       "      <th></th>\n",
       "      <th>train-auc-mean</th>\n",
       "      <th>train-auc-std</th>\n",
       "      <th>test-auc-mean</th>\n",
       "      <th>test-auc-std</th>\n",
       "    </tr>\n",
       "  </thead>\n",
       "  <tbody>\n",
       "    <tr>\n",
       "      <th>0</th>\n",
       "      <td>0.832929</td>\n",
       "      <td>0.005522</td>\n",
       "      <td>0.822821</td>\n",
       "      <td>0.023383</td>\n",
       "    </tr>\n",
       "    <tr>\n",
       "      <th>1</th>\n",
       "      <td>0.878056</td>\n",
       "      <td>0.017028</td>\n",
       "      <td>0.865000</td>\n",
       "      <td>0.012354</td>\n",
       "    </tr>\n",
       "    <tr>\n",
       "      <th>2</th>\n",
       "      <td>0.896113</td>\n",
       "      <td>0.004610</td>\n",
       "      <td>0.885833</td>\n",
       "      <td>0.013643</td>\n",
       "    </tr>\n",
       "    <tr>\n",
       "      <th>3</th>\n",
       "      <td>0.898959</td>\n",
       "      <td>0.003620</td>\n",
       "      <td>0.887329</td>\n",
       "      <td>0.014435</td>\n",
       "    </tr>\n",
       "    <tr>\n",
       "      <th>4</th>\n",
       "      <td>0.907983</td>\n",
       "      <td>0.006512</td>\n",
       "      <td>0.893266</td>\n",
       "      <td>0.015876</td>\n",
       "    </tr>\n",
       "    <tr>\n",
       "      <th>5</th>\n",
       "      <td>0.914528</td>\n",
       "      <td>0.006632</td>\n",
       "      <td>0.903182</td>\n",
       "      <td>0.016961</td>\n",
       "    </tr>\n",
       "    <tr>\n",
       "      <th>6</th>\n",
       "      <td>0.916711</td>\n",
       "      <td>0.006987</td>\n",
       "      <td>0.905579</td>\n",
       "      <td>0.016529</td>\n",
       "    </tr>\n",
       "  </tbody>\n",
       "</table>\n",
       "</div>"
      ],
      "text/plain": [
       "   train-auc-mean  train-auc-std  test-auc-mean  test-auc-std\n",
       "0        0.832929       0.005522       0.822821      0.023383\n",
       "1        0.878056       0.017028       0.865000      0.012354\n",
       "2        0.896113       0.004610       0.885833      0.013643\n",
       "3        0.898959       0.003620       0.887329      0.014435\n",
       "4        0.907983       0.006512       0.893266      0.015876\n",
       "5        0.914528       0.006632       0.903182      0.016961\n",
       "6        0.916711       0.006987       0.905579      0.016529"
      ]
     },
     "execution_count": 41,
     "metadata": {},
     "output_type": "execute_result"
    }
   ],
   "source": [
    "cv_results = xgb.cv(dtrain=churn_dmatrix, nfold=4, params=params, num_boost_round=7, metrics='auc')\n",
    "cv_results"
   ]
  },
  {
   "cell_type": "code",
   "execution_count": 42,
   "id": "3e720f99-f4b2-46a9-9417-eb74bc8e3061",
   "metadata": {},
   "outputs": [
    {
     "data": {
      "text/html": [
       "<div>\n",
       "<style scoped>\n",
       "    .dataframe tbody tr th:only-of-type {\n",
       "        vertical-align: middle;\n",
       "    }\n",
       "\n",
       "    .dataframe tbody tr th {\n",
       "        vertical-align: top;\n",
       "    }\n",
       "\n",
       "    .dataframe thead th {\n",
       "        text-align: right;\n",
       "    }\n",
       "</style>\n",
       "<table border=\"1\" class=\"dataframe\">\n",
       "  <thead>\n",
       "    <tr style=\"text-align: right;\">\n",
       "      <th></th>\n",
       "      <th>train-auc-mean</th>\n",
       "      <th>train-auc-std</th>\n",
       "      <th>test-auc-mean</th>\n",
       "      <th>test-auc-std</th>\n",
       "    </tr>\n",
       "  </thead>\n",
       "  <tbody>\n",
       "    <tr>\n",
       "      <th>count</th>\n",
       "      <td>7.000000</td>\n",
       "      <td>7.000000</td>\n",
       "      <td>7.000000</td>\n",
       "      <td>7.000000</td>\n",
       "    </tr>\n",
       "    <tr>\n",
       "      <th>mean</th>\n",
       "      <td>0.892183</td>\n",
       "      <td>0.007273</td>\n",
       "      <td>0.880430</td>\n",
       "      <td>0.016169</td>\n",
       "    </tr>\n",
       "    <tr>\n",
       "      <th>std</th>\n",
       "      <td>0.029219</td>\n",
       "      <td>0.004467</td>\n",
       "      <td>0.028719</td>\n",
       "      <td>0.003578</td>\n",
       "    </tr>\n",
       "    <tr>\n",
       "      <th>min</th>\n",
       "      <td>0.832929</td>\n",
       "      <td>0.003620</td>\n",
       "      <td>0.822821</td>\n",
       "      <td>0.012354</td>\n",
       "    </tr>\n",
       "    <tr>\n",
       "      <th>25%</th>\n",
       "      <td>0.887084</td>\n",
       "      <td>0.005066</td>\n",
       "      <td>0.875417</td>\n",
       "      <td>0.014039</td>\n",
       "    </tr>\n",
       "    <tr>\n",
       "      <th>50%</th>\n",
       "      <td>0.898959</td>\n",
       "      <td>0.006512</td>\n",
       "      <td>0.887329</td>\n",
       "      <td>0.015876</td>\n",
       "    </tr>\n",
       "    <tr>\n",
       "      <th>75%</th>\n",
       "      <td>0.911255</td>\n",
       "      <td>0.006810</td>\n",
       "      <td>0.898224</td>\n",
       "      <td>0.016745</td>\n",
       "    </tr>\n",
       "    <tr>\n",
       "      <th>max</th>\n",
       "      <td>0.916711</td>\n",
       "      <td>0.017028</td>\n",
       "      <td>0.905579</td>\n",
       "      <td>0.023383</td>\n",
       "    </tr>\n",
       "  </tbody>\n",
       "</table>\n",
       "</div>"
      ],
      "text/plain": [
       "       train-auc-mean  train-auc-std  test-auc-mean  test-auc-std\n",
       "count        7.000000       7.000000       7.000000      7.000000\n",
       "mean         0.892183       0.007273       0.880430      0.016169\n",
       "std          0.029219       0.004467       0.028719      0.003578\n",
       "min          0.832929       0.003620       0.822821      0.012354\n",
       "25%          0.887084       0.005066       0.875417      0.014039\n",
       "50%          0.898959       0.006512       0.887329      0.015876\n",
       "75%          0.911255       0.006810       0.898224      0.016745\n",
       "max          0.916711       0.017028       0.905579      0.023383"
      ]
     },
     "execution_count": 42,
     "metadata": {},
     "output_type": "execute_result"
    }
   ],
   "source": [
    "cv_results.describe()"
   ]
  },
  {
   "cell_type": "code",
   "execution_count": 43,
   "id": "4111a4a0-5dca-46e1-922b-02896f505ceb",
   "metadata": {},
   "outputs": [
    {
     "name": "stdout",
     "output_type": "stream",
     "text": [
      " Volume in drive C has no label.\n",
      " Volume Serial Number is 6417-5FB0\n",
      "\n",
      " Directory of C:\\Users\\hp\\Desktop\\Python\\ML\\DATACAMP\\Aa ML scientist\\extreme boosting with xgboost\n",
      "\n",
      "12/24/2024  03:16 PM    <DIR>          .\n",
      "12/24/2024  03:16 PM    <DIR>          ..\n",
      "12/22/2024  03:27 PM    <DIR>          .ipynb_checkpoints\n",
      "12/22/2024  03:21 PM            65,536 ames housing clean.csv\n",
      "12/22/2024  03:18 PM           196,754 ames housing dirty.csv\n",
      "12/22/2024  03:16 PM           196,754 ames housing.csv\n",
      "12/22/2024  01:24 PM         7,852,279 chapter1 (11).pdf\n",
      "12/22/2024  01:23 PM         1,107,098 chapter2 (8).pdf\n",
      "12/22/2024  01:23 PM           276,862 chapter3 (8).pdf\n",
      "12/22/2024  01:22 PM           318,664 chapter4 (8).pdf\n",
      "12/24/2024  03:14 PM           110,427 extreme boost.ipynb\n",
      "01/16/2020  06:02 PM            11,328 heart-disease.csv\n",
      "12/22/2024  03:22 PM            43,450 kidney.csv\n",
      "12/24/2024  03:16 PM                92 output\n",
      "12/24/2024  03:16 PM            16,520 output.pdf\n",
      "12/24/2024  03:16 PM             8,283 output.png\n",
      "12/23/2024  10:47 PM    <DIR>          project\n",
      "07/02/2023  08:34 AM           264,788 telecom_churn_clean.csv\n",
      "              14 File(s)     10,468,835 bytes\n",
      "               4 Dir(s)  73,369,686,016 bytes free\n"
     ]
    }
   ],
   "source": [
    "ls"
   ]
  },
  {
   "cell_type": "code",
   "execution_count": 44,
   "id": "d33d835b-d65b-4bc4-8826-0187f06c1638",
   "metadata": {},
   "outputs": [
    {
     "data": {
      "text/plain": [
       "Index(['MSSubClass', 'MSZoning', 'LotFrontage', 'LotArea', 'Neighborhood',\n",
       "       'BldgType', 'HouseStyle', 'OverallQual', 'OverallCond', 'YearBuilt',\n",
       "       'Remodeled', 'GrLivArea', 'BsmtFullBath', 'BsmtHalfBath', 'FullBath',\n",
       "       'HalfBath', 'BedroomAbvGr', 'Fireplaces', 'GarageArea', 'PavedDrive',\n",
       "       'SalePrice'],\n",
       "      dtype='object')"
      ]
     },
     "execution_count": 44,
     "metadata": {},
     "output_type": "execute_result"
    }
   ],
   "source": [
    "housing = pd.read_csv('ames housing clean.csv')\n",
    "housing.columns"
   ]
  },
  {
   "cell_type": "code",
   "execution_count": 45,
   "id": "0917aad5-096d-47d4-82b5-05526e0cbfc9",
   "metadata": {},
   "outputs": [
    {
     "data": {
      "text/html": [
       "<style>#sk-container-id-1 {\n",
       "  /* Definition of color scheme common for light and dark mode */\n",
       "  --sklearn-color-text: black;\n",
       "  --sklearn-color-line: gray;\n",
       "  /* Definition of color scheme for unfitted estimators */\n",
       "  --sklearn-color-unfitted-level-0: #fff5e6;\n",
       "  --sklearn-color-unfitted-level-1: #f6e4d2;\n",
       "  --sklearn-color-unfitted-level-2: #ffe0b3;\n",
       "  --sklearn-color-unfitted-level-3: chocolate;\n",
       "  /* Definition of color scheme for fitted estimators */\n",
       "  --sklearn-color-fitted-level-0: #f0f8ff;\n",
       "  --sklearn-color-fitted-level-1: #d4ebff;\n",
       "  --sklearn-color-fitted-level-2: #b3dbfd;\n",
       "  --sklearn-color-fitted-level-3: cornflowerblue;\n",
       "\n",
       "  /* Specific color for light theme */\n",
       "  --sklearn-color-text-on-default-background: var(--sg-text-color, var(--theme-code-foreground, var(--jp-content-font-color1, black)));\n",
       "  --sklearn-color-background: var(--sg-background-color, var(--theme-background, var(--jp-layout-color0, white)));\n",
       "  --sklearn-color-border-box: var(--sg-text-color, var(--theme-code-foreground, var(--jp-content-font-color1, black)));\n",
       "  --sklearn-color-icon: #696969;\n",
       "\n",
       "  @media (prefers-color-scheme: dark) {\n",
       "    /* Redefinition of color scheme for dark theme */\n",
       "    --sklearn-color-text-on-default-background: var(--sg-text-color, var(--theme-code-foreground, var(--jp-content-font-color1, white)));\n",
       "    --sklearn-color-background: var(--sg-background-color, var(--theme-background, var(--jp-layout-color0, #111)));\n",
       "    --sklearn-color-border-box: var(--sg-text-color, var(--theme-code-foreground, var(--jp-content-font-color1, white)));\n",
       "    --sklearn-color-icon: #878787;\n",
       "  }\n",
       "}\n",
       "\n",
       "#sk-container-id-1 {\n",
       "  color: var(--sklearn-color-text);\n",
       "}\n",
       "\n",
       "#sk-container-id-1 pre {\n",
       "  padding: 0;\n",
       "}\n",
       "\n",
       "#sk-container-id-1 input.sk-hidden--visually {\n",
       "  border: 0;\n",
       "  clip: rect(1px 1px 1px 1px);\n",
       "  clip: rect(1px, 1px, 1px, 1px);\n",
       "  height: 1px;\n",
       "  margin: -1px;\n",
       "  overflow: hidden;\n",
       "  padding: 0;\n",
       "  position: absolute;\n",
       "  width: 1px;\n",
       "}\n",
       "\n",
       "#sk-container-id-1 div.sk-dashed-wrapped {\n",
       "  border: 1px dashed var(--sklearn-color-line);\n",
       "  margin: 0 0.4em 0.5em 0.4em;\n",
       "  box-sizing: border-box;\n",
       "  padding-bottom: 0.4em;\n",
       "  background-color: var(--sklearn-color-background);\n",
       "}\n",
       "\n",
       "#sk-container-id-1 div.sk-container {\n",
       "  /* jupyter's `normalize.less` sets `[hidden] { display: none; }`\n",
       "     but bootstrap.min.css set `[hidden] { display: none !important; }`\n",
       "     so we also need the `!important` here to be able to override the\n",
       "     default hidden behavior on the sphinx rendered scikit-learn.org.\n",
       "     See: https://github.com/scikit-learn/scikit-learn/issues/21755 */\n",
       "  display: inline-block !important;\n",
       "  position: relative;\n",
       "}\n",
       "\n",
       "#sk-container-id-1 div.sk-text-repr-fallback {\n",
       "  display: none;\n",
       "}\n",
       "\n",
       "div.sk-parallel-item,\n",
       "div.sk-serial,\n",
       "div.sk-item {\n",
       "  /* draw centered vertical line to link estimators */\n",
       "  background-image: linear-gradient(var(--sklearn-color-text-on-default-background), var(--sklearn-color-text-on-default-background));\n",
       "  background-size: 2px 100%;\n",
       "  background-repeat: no-repeat;\n",
       "  background-position: center center;\n",
       "}\n",
       "\n",
       "/* Parallel-specific style estimator block */\n",
       "\n",
       "#sk-container-id-1 div.sk-parallel-item::after {\n",
       "  content: \"\";\n",
       "  width: 100%;\n",
       "  border-bottom: 2px solid var(--sklearn-color-text-on-default-background);\n",
       "  flex-grow: 1;\n",
       "}\n",
       "\n",
       "#sk-container-id-1 div.sk-parallel {\n",
       "  display: flex;\n",
       "  align-items: stretch;\n",
       "  justify-content: center;\n",
       "  background-color: var(--sklearn-color-background);\n",
       "  position: relative;\n",
       "}\n",
       "\n",
       "#sk-container-id-1 div.sk-parallel-item {\n",
       "  display: flex;\n",
       "  flex-direction: column;\n",
       "}\n",
       "\n",
       "#sk-container-id-1 div.sk-parallel-item:first-child::after {\n",
       "  align-self: flex-end;\n",
       "  width: 50%;\n",
       "}\n",
       "\n",
       "#sk-container-id-1 div.sk-parallel-item:last-child::after {\n",
       "  align-self: flex-start;\n",
       "  width: 50%;\n",
       "}\n",
       "\n",
       "#sk-container-id-1 div.sk-parallel-item:only-child::after {\n",
       "  width: 0;\n",
       "}\n",
       "\n",
       "/* Serial-specific style estimator block */\n",
       "\n",
       "#sk-container-id-1 div.sk-serial {\n",
       "  display: flex;\n",
       "  flex-direction: column;\n",
       "  align-items: center;\n",
       "  background-color: var(--sklearn-color-background);\n",
       "  padding-right: 1em;\n",
       "  padding-left: 1em;\n",
       "}\n",
       "\n",
       "\n",
       "/* Toggleable style: style used for estimator/Pipeline/ColumnTransformer box that is\n",
       "clickable and can be expanded/collapsed.\n",
       "- Pipeline and ColumnTransformer use this feature and define the default style\n",
       "- Estimators will overwrite some part of the style using the `sk-estimator` class\n",
       "*/\n",
       "\n",
       "/* Pipeline and ColumnTransformer style (default) */\n",
       "\n",
       "#sk-container-id-1 div.sk-toggleable {\n",
       "  /* Default theme specific background. It is overwritten whether we have a\n",
       "  specific estimator or a Pipeline/ColumnTransformer */\n",
       "  background-color: var(--sklearn-color-background);\n",
       "}\n",
       "\n",
       "/* Toggleable label */\n",
       "#sk-container-id-1 label.sk-toggleable__label {\n",
       "  cursor: pointer;\n",
       "  display: block;\n",
       "  width: 100%;\n",
       "  margin-bottom: 0;\n",
       "  padding: 0.5em;\n",
       "  box-sizing: border-box;\n",
       "  text-align: center;\n",
       "}\n",
       "\n",
       "#sk-container-id-1 label.sk-toggleable__label-arrow:before {\n",
       "  /* Arrow on the left of the label */\n",
       "  content: \"▸\";\n",
       "  float: left;\n",
       "  margin-right: 0.25em;\n",
       "  color: var(--sklearn-color-icon);\n",
       "}\n",
       "\n",
       "#sk-container-id-1 label.sk-toggleable__label-arrow:hover:before {\n",
       "  color: var(--sklearn-color-text);\n",
       "}\n",
       "\n",
       "/* Toggleable content - dropdown */\n",
       "\n",
       "#sk-container-id-1 div.sk-toggleable__content {\n",
       "  max-height: 0;\n",
       "  max-width: 0;\n",
       "  overflow: hidden;\n",
       "  text-align: left;\n",
       "  /* unfitted */\n",
       "  background-color: var(--sklearn-color-unfitted-level-0);\n",
       "}\n",
       "\n",
       "#sk-container-id-1 div.sk-toggleable__content.fitted {\n",
       "  /* fitted */\n",
       "  background-color: var(--sklearn-color-fitted-level-0);\n",
       "}\n",
       "\n",
       "#sk-container-id-1 div.sk-toggleable__content pre {\n",
       "  margin: 0.2em;\n",
       "  border-radius: 0.25em;\n",
       "  color: var(--sklearn-color-text);\n",
       "  /* unfitted */\n",
       "  background-color: var(--sklearn-color-unfitted-level-0);\n",
       "}\n",
       "\n",
       "#sk-container-id-1 div.sk-toggleable__content.fitted pre {\n",
       "  /* unfitted */\n",
       "  background-color: var(--sklearn-color-fitted-level-0);\n",
       "}\n",
       "\n",
       "#sk-container-id-1 input.sk-toggleable__control:checked~div.sk-toggleable__content {\n",
       "  /* Expand drop-down */\n",
       "  max-height: 200px;\n",
       "  max-width: 100%;\n",
       "  overflow: auto;\n",
       "}\n",
       "\n",
       "#sk-container-id-1 input.sk-toggleable__control:checked~label.sk-toggleable__label-arrow:before {\n",
       "  content: \"▾\";\n",
       "}\n",
       "\n",
       "/* Pipeline/ColumnTransformer-specific style */\n",
       "\n",
       "#sk-container-id-1 div.sk-label input.sk-toggleable__control:checked~label.sk-toggleable__label {\n",
       "  color: var(--sklearn-color-text);\n",
       "  background-color: var(--sklearn-color-unfitted-level-2);\n",
       "}\n",
       "\n",
       "#sk-container-id-1 div.sk-label.fitted input.sk-toggleable__control:checked~label.sk-toggleable__label {\n",
       "  background-color: var(--sklearn-color-fitted-level-2);\n",
       "}\n",
       "\n",
       "/* Estimator-specific style */\n",
       "\n",
       "/* Colorize estimator box */\n",
       "#sk-container-id-1 div.sk-estimator input.sk-toggleable__control:checked~label.sk-toggleable__label {\n",
       "  /* unfitted */\n",
       "  background-color: var(--sklearn-color-unfitted-level-2);\n",
       "}\n",
       "\n",
       "#sk-container-id-1 div.sk-estimator.fitted input.sk-toggleable__control:checked~label.sk-toggleable__label {\n",
       "  /* fitted */\n",
       "  background-color: var(--sklearn-color-fitted-level-2);\n",
       "}\n",
       "\n",
       "#sk-container-id-1 div.sk-label label.sk-toggleable__label,\n",
       "#sk-container-id-1 div.sk-label label {\n",
       "  /* The background is the default theme color */\n",
       "  color: var(--sklearn-color-text-on-default-background);\n",
       "}\n",
       "\n",
       "/* On hover, darken the color of the background */\n",
       "#sk-container-id-1 div.sk-label:hover label.sk-toggleable__label {\n",
       "  color: var(--sklearn-color-text);\n",
       "  background-color: var(--sklearn-color-unfitted-level-2);\n",
       "}\n",
       "\n",
       "/* Label box, darken color on hover, fitted */\n",
       "#sk-container-id-1 div.sk-label.fitted:hover label.sk-toggleable__label.fitted {\n",
       "  color: var(--sklearn-color-text);\n",
       "  background-color: var(--sklearn-color-fitted-level-2);\n",
       "}\n",
       "\n",
       "/* Estimator label */\n",
       "\n",
       "#sk-container-id-1 div.sk-label label {\n",
       "  font-family: monospace;\n",
       "  font-weight: bold;\n",
       "  display: inline-block;\n",
       "  line-height: 1.2em;\n",
       "}\n",
       "\n",
       "#sk-container-id-1 div.sk-label-container {\n",
       "  text-align: center;\n",
       "}\n",
       "\n",
       "/* Estimator-specific */\n",
       "#sk-container-id-1 div.sk-estimator {\n",
       "  font-family: monospace;\n",
       "  border: 1px dotted var(--sklearn-color-border-box);\n",
       "  border-radius: 0.25em;\n",
       "  box-sizing: border-box;\n",
       "  margin-bottom: 0.5em;\n",
       "  /* unfitted */\n",
       "  background-color: var(--sklearn-color-unfitted-level-0);\n",
       "}\n",
       "\n",
       "#sk-container-id-1 div.sk-estimator.fitted {\n",
       "  /* fitted */\n",
       "  background-color: var(--sklearn-color-fitted-level-0);\n",
       "}\n",
       "\n",
       "/* on hover */\n",
       "#sk-container-id-1 div.sk-estimator:hover {\n",
       "  /* unfitted */\n",
       "  background-color: var(--sklearn-color-unfitted-level-2);\n",
       "}\n",
       "\n",
       "#sk-container-id-1 div.sk-estimator.fitted:hover {\n",
       "  /* fitted */\n",
       "  background-color: var(--sklearn-color-fitted-level-2);\n",
       "}\n",
       "\n",
       "/* Specification for estimator info (e.g. \"i\" and \"?\") */\n",
       "\n",
       "/* Common style for \"i\" and \"?\" */\n",
       "\n",
       ".sk-estimator-doc-link,\n",
       "a:link.sk-estimator-doc-link,\n",
       "a:visited.sk-estimator-doc-link {\n",
       "  float: right;\n",
       "  font-size: smaller;\n",
       "  line-height: 1em;\n",
       "  font-family: monospace;\n",
       "  background-color: var(--sklearn-color-background);\n",
       "  border-radius: 1em;\n",
       "  height: 1em;\n",
       "  width: 1em;\n",
       "  text-decoration: none !important;\n",
       "  margin-left: 1ex;\n",
       "  /* unfitted */\n",
       "  border: var(--sklearn-color-unfitted-level-1) 1pt solid;\n",
       "  color: var(--sklearn-color-unfitted-level-1);\n",
       "}\n",
       "\n",
       ".sk-estimator-doc-link.fitted,\n",
       "a:link.sk-estimator-doc-link.fitted,\n",
       "a:visited.sk-estimator-doc-link.fitted {\n",
       "  /* fitted */\n",
       "  border: var(--sklearn-color-fitted-level-1) 1pt solid;\n",
       "  color: var(--sklearn-color-fitted-level-1);\n",
       "}\n",
       "\n",
       "/* On hover */\n",
       "div.sk-estimator:hover .sk-estimator-doc-link:hover,\n",
       ".sk-estimator-doc-link:hover,\n",
       "div.sk-label-container:hover .sk-estimator-doc-link:hover,\n",
       ".sk-estimator-doc-link:hover {\n",
       "  /* unfitted */\n",
       "  background-color: var(--sklearn-color-unfitted-level-3);\n",
       "  color: var(--sklearn-color-background);\n",
       "  text-decoration: none;\n",
       "}\n",
       "\n",
       "div.sk-estimator.fitted:hover .sk-estimator-doc-link.fitted:hover,\n",
       ".sk-estimator-doc-link.fitted:hover,\n",
       "div.sk-label-container:hover .sk-estimator-doc-link.fitted:hover,\n",
       ".sk-estimator-doc-link.fitted:hover {\n",
       "  /* fitted */\n",
       "  background-color: var(--sklearn-color-fitted-level-3);\n",
       "  color: var(--sklearn-color-background);\n",
       "  text-decoration: none;\n",
       "}\n",
       "\n",
       "/* Span, style for the box shown on hovering the info icon */\n",
       ".sk-estimator-doc-link span {\n",
       "  display: none;\n",
       "  z-index: 9999;\n",
       "  position: relative;\n",
       "  font-weight: normal;\n",
       "  right: .2ex;\n",
       "  padding: .5ex;\n",
       "  margin: .5ex;\n",
       "  width: min-content;\n",
       "  min-width: 20ex;\n",
       "  max-width: 50ex;\n",
       "  color: var(--sklearn-color-text);\n",
       "  box-shadow: 2pt 2pt 4pt #999;\n",
       "  /* unfitted */\n",
       "  background: var(--sklearn-color-unfitted-level-0);\n",
       "  border: .5pt solid var(--sklearn-color-unfitted-level-3);\n",
       "}\n",
       "\n",
       ".sk-estimator-doc-link.fitted span {\n",
       "  /* fitted */\n",
       "  background: var(--sklearn-color-fitted-level-0);\n",
       "  border: var(--sklearn-color-fitted-level-3);\n",
       "}\n",
       "\n",
       ".sk-estimator-doc-link:hover span {\n",
       "  display: block;\n",
       "}\n",
       "\n",
       "/* \"?\"-specific style due to the `<a>` HTML tag */\n",
       "\n",
       "#sk-container-id-1 a.estimator_doc_link {\n",
       "  float: right;\n",
       "  font-size: 1rem;\n",
       "  line-height: 1em;\n",
       "  font-family: monospace;\n",
       "  background-color: var(--sklearn-color-background);\n",
       "  border-radius: 1rem;\n",
       "  height: 1rem;\n",
       "  width: 1rem;\n",
       "  text-decoration: none;\n",
       "  /* unfitted */\n",
       "  color: var(--sklearn-color-unfitted-level-1);\n",
       "  border: var(--sklearn-color-unfitted-level-1) 1pt solid;\n",
       "}\n",
       "\n",
       "#sk-container-id-1 a.estimator_doc_link.fitted {\n",
       "  /* fitted */\n",
       "  border: var(--sklearn-color-fitted-level-1) 1pt solid;\n",
       "  color: var(--sklearn-color-fitted-level-1);\n",
       "}\n",
       "\n",
       "/* On hover */\n",
       "#sk-container-id-1 a.estimator_doc_link:hover {\n",
       "  /* unfitted */\n",
       "  background-color: var(--sklearn-color-unfitted-level-3);\n",
       "  color: var(--sklearn-color-background);\n",
       "  text-decoration: none;\n",
       "}\n",
       "\n",
       "#sk-container-id-1 a.estimator_doc_link.fitted:hover {\n",
       "  /* fitted */\n",
       "  background-color: var(--sklearn-color-fitted-level-3);\n",
       "}\n",
       "</style><div id=\"sk-container-id-1\" class=\"sk-top-container\"><div class=\"sk-text-repr-fallback\"><pre>RandomForestClassifier()</pre><b>In a Jupyter environment, please rerun this cell to show the HTML representation or trust the notebook. <br />On GitHub, the HTML representation is unable to render, please try loading this page with nbviewer.org.</b></div><div class=\"sk-container\" hidden><div class=\"sk-item\"><div class=\"sk-estimator fitted sk-toggleable\"><input class=\"sk-toggleable__control sk-hidden--visually\" id=\"sk-estimator-id-1\" type=\"checkbox\" checked><label for=\"sk-estimator-id-1\" class=\"sk-toggleable__label fitted sk-toggleable__label-arrow fitted\">&nbsp;&nbsp;RandomForestClassifier<a class=\"sk-estimator-doc-link fitted\" rel=\"noreferrer\" target=\"_blank\" href=\"https://scikit-learn.org/1.4/modules/generated/sklearn.ensemble.RandomForestClassifier.html\">?<span>Documentation for RandomForestClassifier</span></a><span class=\"sk-estimator-doc-link fitted\">i<span>Fitted</span></span></label><div class=\"sk-toggleable__content fitted\"><pre>RandomForestClassifier()</pre></div> </div></div></div></div>"
      ],
      "text/plain": [
       "RandomForestClassifier()"
      ]
     },
     "execution_count": 45,
     "metadata": {},
     "output_type": "execute_result"
    }
   ],
   "source": [
    "from sklearn.ensemble import RandomForestRegressor\n",
    "rf = RandomForestClassifier()\n",
    "X = housing.drop(['MSZoning', 'BldgType', 'Neighborhood', 'HouseStyle', 'PavedDrive', 'LotFrontage', 'SalePrice'], axis=1).dropna()\n",
    "y = housing['SalePrice'].dropna()\n",
    "X_train, X_test, y_train, y_test = train_test_split(X, y, test_size=0.3)\n",
    "rf.fit(X_train, y_train)"
   ]
  },
  {
   "cell_type": "code",
   "execution_count": 48,
   "id": "30578760-1031-42d1-9370-24b94d83d6ef",
   "metadata": {},
   "outputs": [
    {
     "ename": "SyntaxError",
     "evalue": "invalid syntax (526089120.py, line 1)",
     "output_type": "error",
     "traceback": [
      "\u001b[1;36m  Cell \u001b[1;32mIn[48], line 1\u001b[1;36m\u001b[0m\n\u001b[1;33m    sns.barplot(y=X.columns, x=rf.feature_importances_, order=X.columns.)\u001b[0m\n\u001b[1;37m                                                                        ^\u001b[0m\n\u001b[1;31mSyntaxError\u001b[0m\u001b[1;31m:\u001b[0m invalid syntax\n"
     ]
    }
   ],
   "source": [
    "sns.barplot(y=X.columns, x=rf.feature_importances_, order=X.columns.)\n",
    "plt.xticks(rotation=90);"
   ]
  },
  {
   "cell_type": "code",
   "execution_count": 49,
   "id": "2fd3319e-762f-4d79-bf92-679e1a06e1b8",
   "metadata": {},
   "outputs": [],
   "source": [
    "feature_df = pd.DataFrame(index=rf.feature_importances_, columns=X.columns)"
   ]
  },
  {
   "cell_type": "code",
   "execution_count": 144,
   "id": "8231ba85-657f-4f10-8a95-6b2ab1ea50aa",
   "metadata": {},
   "outputs": [
    {
     "data": {
      "text/plain": [
       "31492.86579513399"
      ]
     },
     "execution_count": 144,
     "metadata": {},
     "output_type": "execute_result"
    }
   ],
   "source": [
    "import xgboost as xgb\n",
    "from sklearn.metrics import mean_squared_error\n",
    "housing = housing.dropna()\n",
    "from sklearn.preprocessing import LabelEncoder\n",
    "label =LabelEncoder()\n",
    "housing['Neighborhood_label']= label.fit_transform(housing['Neighborhood'])\n",
    "housing['MSZoning_label']= label.fit_transform(housing['MSZoning'])\n",
    "housing['BldgType_label']= label.fit_transform(housing['BldgType'])\n",
    "housing['HouseStyle_label']= label.fit_transform(housing['HouseStyle'])\n",
    "housing['PavedDrive_label']= label.fit_transform(housing['PavedDrive'])\n",
    "housing['LotFrontage_label']= label.fit_transform(housing['LotFrontage'])\n",
    "X = housing.drop(['MSZoning', 'BldgType', 'Neighborhood', 'HouseStyle', 'PavedDrive', 'LotFrontage', 'SalePrice'], axis=1)\n",
    "y = housing['SalePrice']\n",
    "X_train, X_test, y_train, y_test = train_test_split(X, y, test_size=0.3)\n",
    "xg_reg = xgb.XGBRegressor(booster='gbtree', objective='reg:squarederror', n_estimators=300)\n",
    "xg_reg.fit(X_train, y_train)\n",
    "y_preds  =xg_reg.predict(X_test)\n",
    "np.sqrt(mean_squared_error(y_test, y_preds))"
   ]
  },
  {
   "cell_type": "code",
   "execution_count": 145,
   "id": "bda563bb-e99f-4729-a29d-d5a989979556",
   "metadata": {},
   "outputs": [
    {
     "data": {
      "text/plain": [
       "60029.49491216381"
      ]
     },
     "execution_count": 145,
     "metadata": {},
     "output_type": "execute_result"
    }
   ],
   "source": [
    "dm_train =xgb.DMatrix(data=X_train, label=y_train)\n",
    "dm_test =xgb.DMatrix(data=X_test, label=y_test)\n",
    "params = {'booster':'gblinear', 'objective':'reg:squarederror'}\n",
    "xg_reg = xgb.train(params=params, dtrain=dm_train, num_boost_round=5)\n",
    "y_preds =xg_reg.predict(dm_test)\n",
    "np.sqrt(mean_squared_error(y_test, y_preds))"
   ]
  },
  {
   "cell_type": "code",
   "execution_count": 146,
   "id": "5d98590a-2f32-495b-bddd-9137dd2580d9",
   "metadata": {},
   "outputs": [
    {
     "data": {
      "text/html": [
       "<div>\n",
       "<style scoped>\n",
       "    .dataframe tbody tr th:only-of-type {\n",
       "        vertical-align: middle;\n",
       "    }\n",
       "\n",
       "    .dataframe tbody tr th {\n",
       "        vertical-align: top;\n",
       "    }\n",
       "\n",
       "    .dataframe thead th {\n",
       "        text-align: right;\n",
       "    }\n",
       "</style>\n",
       "<table border=\"1\" class=\"dataframe\">\n",
       "  <thead>\n",
       "    <tr style=\"text-align: right;\">\n",
       "      <th></th>\n",
       "      <th>train-rmse-mean</th>\n",
       "      <th>train-rmse-std</th>\n",
       "      <th>test-rmse-mean</th>\n",
       "      <th>test-rmse-std</th>\n",
       "    </tr>\n",
       "  </thead>\n",
       "  <tbody>\n",
       "    <tr>\n",
       "      <th>0</th>\n",
       "      <td>66235.890744</td>\n",
       "      <td>2115.496864</td>\n",
       "      <td>67272.889092</td>\n",
       "      <td>9620.253963</td>\n",
       "    </tr>\n",
       "    <tr>\n",
       "      <th>1</th>\n",
       "      <td>52616.705836</td>\n",
       "      <td>1701.422659</td>\n",
       "      <td>56099.662658</td>\n",
       "      <td>9268.747994</td>\n",
       "    </tr>\n",
       "    <tr>\n",
       "      <th>2</th>\n",
       "      <td>42646.135472</td>\n",
       "      <td>1362.292488</td>\n",
       "      <td>48754.205311</td>\n",
       "      <td>7972.428290</td>\n",
       "    </tr>\n",
       "    <tr>\n",
       "      <th>3</th>\n",
       "      <td>35819.625889</td>\n",
       "      <td>1127.706473</td>\n",
       "      <td>44451.343724</td>\n",
       "      <td>6079.635683</td>\n",
       "    </tr>\n",
       "    <tr>\n",
       "      <th>4</th>\n",
       "      <td>30713.660668</td>\n",
       "      <td>1106.721879</td>\n",
       "      <td>41785.676891</td>\n",
       "      <td>4072.556165</td>\n",
       "    </tr>\n",
       "    <tr>\n",
       "      <th>5</th>\n",
       "      <td>26840.776385</td>\n",
       "      <td>1040.275612</td>\n",
       "      <td>40467.523535</td>\n",
       "      <td>2722.301799</td>\n",
       "    </tr>\n",
       "  </tbody>\n",
       "</table>\n",
       "</div>"
      ],
      "text/plain": [
       "   train-rmse-mean  train-rmse-std  test-rmse-mean  test-rmse-std\n",
       "0     66235.890744     2115.496864    67272.889092    9620.253963\n",
       "1     52616.705836     1701.422659    56099.662658    9268.747994\n",
       "2     42646.135472     1362.292488    48754.205311    7972.428290\n",
       "3     35819.625889     1127.706473    44451.343724    6079.635683\n",
       "4     30713.660668     1106.721879    41785.676891    4072.556165\n",
       "5     26840.776385     1040.275612    40467.523535    2722.301799"
      ]
     },
     "execution_count": 146,
     "metadata": {},
     "output_type": "execute_result"
    }
   ],
   "source": [
    "X = housing.drop(['MSZoning', 'BldgType', 'Neighborhood', 'HouseStyle', 'PavedDrive', 'LotFrontage', 'SalePrice'], axis=1)\n",
    "y = housing['SalePrice']\n",
    "params = {'objective':'reg:squarederror', 'max_depth':4}\n",
    "dmatrix = xgb.DMatrix(data=X, label=y)\n",
    "xgb.cv(dtrain=dmatrix, params=params, nfold=4, num_boost_round=6, metrics='rmse')"
   ]
  },
  {
   "cell_type": "code",
   "execution_count": 147,
   "id": "18ec7cb1-c49c-4f62-8c04-47284322a9be",
   "metadata": {},
   "outputs": [
    {
     "data": {
      "text/html": [
       "<div>\n",
       "<style scoped>\n",
       "    .dataframe tbody tr th:only-of-type {\n",
       "        vertical-align: middle;\n",
       "    }\n",
       "\n",
       "    .dataframe tbody tr th {\n",
       "        vertical-align: top;\n",
       "    }\n",
       "\n",
       "    .dataframe thead th {\n",
       "        text-align: right;\n",
       "    }\n",
       "</style>\n",
       "<table border=\"1\" class=\"dataframe\">\n",
       "  <thead>\n",
       "    <tr style=\"text-align: right;\">\n",
       "      <th></th>\n",
       "      <th>train-mae-mean</th>\n",
       "      <th>train-mae-std</th>\n",
       "      <th>test-mae-mean</th>\n",
       "      <th>test-mae-std</th>\n",
       "    </tr>\n",
       "  </thead>\n",
       "  <tbody>\n",
       "    <tr>\n",
       "      <th>0</th>\n",
       "      <td>47948.470242</td>\n",
       "      <td>1621.054321</td>\n",
       "      <td>48757.038386</td>\n",
       "      <td>5463.078681</td>\n",
       "    </tr>\n",
       "    <tr>\n",
       "      <th>1</th>\n",
       "      <td>37144.806241</td>\n",
       "      <td>1355.234583</td>\n",
       "      <td>39225.694947</td>\n",
       "      <td>5203.532387</td>\n",
       "    </tr>\n",
       "    <tr>\n",
       "      <th>2</th>\n",
       "      <td>29641.643977</td>\n",
       "      <td>1087.741611</td>\n",
       "      <td>33031.779996</td>\n",
       "      <td>4819.402661</td>\n",
       "    </tr>\n",
       "    <tr>\n",
       "      <th>3</th>\n",
       "      <td>24638.517157</td>\n",
       "      <td>995.187476</td>\n",
       "      <td>29183.674050</td>\n",
       "      <td>3823.067816</td>\n",
       "    </tr>\n",
       "    <tr>\n",
       "      <th>4</th>\n",
       "      <td>21156.030513</td>\n",
       "      <td>970.735816</td>\n",
       "      <td>26611.377725</td>\n",
       "      <td>3121.936549</td>\n",
       "    </tr>\n",
       "    <tr>\n",
       "      <th>5</th>\n",
       "      <td>18641.731886</td>\n",
       "      <td>909.769012</td>\n",
       "      <td>25080.272018</td>\n",
       "      <td>2489.099416</td>\n",
       "    </tr>\n",
       "  </tbody>\n",
       "</table>\n",
       "</div>"
      ],
      "text/plain": [
       "   train-mae-mean  train-mae-std  test-mae-mean  test-mae-std\n",
       "0    47948.470242    1621.054321   48757.038386   5463.078681\n",
       "1    37144.806241    1355.234583   39225.694947   5203.532387\n",
       "2    29641.643977    1087.741611   33031.779996   4819.402661\n",
       "3    24638.517157     995.187476   29183.674050   3823.067816\n",
       "4    21156.030513     970.735816   26611.377725   3121.936549\n",
       "5    18641.731886     909.769012   25080.272018   2489.099416"
      ]
     },
     "execution_count": 147,
     "metadata": {},
     "output_type": "execute_result"
    }
   ],
   "source": [
    "X = housing.drop(['MSZoning', 'BldgType', 'Neighborhood', 'HouseStyle', 'PavedDrive', 'LotFrontage', 'SalePrice'], axis=1)\n",
    "y = housing['SalePrice']\n",
    "params = {'objective':'reg:squarederror', 'max_depth':4}\n",
    "dmatrix = xgb.DMatrix(data=X, label=y)\n",
    "xgb.cv(dtrain=dmatrix, params=params, nfold=4, num_boost_round=6, metrics='mae')"
   ]
  },
  {
   "cell_type": "code",
   "execution_count": 148,
   "id": "0f50b180-7c11-4b45-a466-e0200dfa03d3",
   "metadata": {},
   "outputs": [],
   "source": [
    "X = housing.drop(['MSZoning', 'BldgType', 'Neighborhood', 'HouseStyle', 'PavedDrive', 'LotFrontage', 'SalePrice'], axis=1)\n",
    "y = housing['SalePrice']\n",
    "params = {'objective':'reg:squarederror', 'max_depth':3}\n",
    "dmatrix = xgb.DMatrix(data=X, label=y)\n",
    "rmse_l2 = {}\n",
    "reg_params = [1, 9,10,20, 30, 50, 100, 200]\n",
    "for reg in reg_params:\n",
    "    params['lambda']= reg\n",
    "    cv_results = xgb.cv(dtrain=dmatrix, params=params, nfold=4, num_boost_round=6, metrics='rmse')\n",
    "    rmse_l2[reg] =(cv_results['test-rmse-mean'].tail(1).values[0])\n",
    "rmse_l2 = pd.DataFrame(list(zip(reg_params, rmse_l2)), columns=['l2', 'rmse'])"
   ]
  },
  {
   "cell_type": "code",
   "execution_count": 149,
   "id": "389ac94a-4d38-4cf6-8432-45e69b637f57",
   "metadata": {},
   "outputs": [],
   "source": [
    "# rmse_l2.keys(), rmse_l2.values())"
   ]
  },
  {
   "cell_type": "code",
   "execution_count": 150,
   "id": "5f6e0853-d883-4756-8ac4-770edb8015fa",
   "metadata": {},
   "outputs": [],
   "source": [
    "X = housing.drop(['MSZoning', 'BldgType', 'Neighborhood', 'HouseStyle', 'PavedDrive', 'LotFrontage', 'SalePrice'], axis=1)\n",
    "y = housing['SalePrice']\n",
    "X_train, X_test, y_train, y_test = train_test_split(X, y, test_size=0.3)\n",
    "params = {'objective': 'reg:squarederror', 'max_depth':2}\n",
    "dmatrix = xgb.DMatrix(data =X_train, label=y_train)\n",
    "xgb_reg = xgb.train(params=params, dtrain=dmatrix, num_boost_round=20)"
   ]
  },
  {
   "cell_type": "code",
   "execution_count": 151,
   "id": "31461d3a-92aa-4f5e-86e0-0651a0276fd1",
   "metadata": {},
   "outputs": [
    {
     "data": {
      "text/plain": [
       "<Axes: >"
      ]
     },
     "execution_count": 151,
     "metadata": {},
     "output_type": "execute_result"
    },
    {
     "data": {
      "image/png": "[encoded data removed]",
      "text/plain": [
       "<Figure size 640x480 with 1 Axes>"
      ]
     },
     "metadata": {},
     "output_type": "display_data"
    }
   ],
   "source": [
    "xgb.plot_tree(xgb_reg, num_treee=13) "
   ]
  },
  {
   "cell_type": "code",
   "execution_count": 152,
   "id": "78e079cc-8957-4a9e-9b70-36518d894314",
   "metadata": {},
   "outputs": [
    {
     "data": {
      "text/plain": [
       "<Axes: >"
      ]
     },
     "execution_count": 152,
     "metadata": {},
     "output_type": "execute_result"
    },
    {
     "data": {
      "image/png": "[encoded data removed]",
      "text/plain": [
       "<Figure size 640x480 with 1 Axes>"
      ]
     },
     "metadata": {},
     "output_type": "display_data"
    }
   ],
   "source": [
    "xgb.plot_tree(xgb_reg, num_tree=9)"
   ]
  },
  {
   "cell_type": "code",
   "execution_count": 153,
   "id": "061d9f99-fba3-4113-8577-6157bac01d16",
   "metadata": {},
   "outputs": [
    {
     "data": {
      "image/png": "[encoded data removed]",
      "text/plain": [
       "<Figure size 640x480 with 1 Axes>"
      ]
     },
     "metadata": {},
     "output_type": "display_data"
    }
   ],
   "source": [
    "X = housing.drop(['MSZoning', 'BldgType', 'Neighborhood', 'HouseStyle', 'PavedDrive', 'LotFrontage', 'SalePrice'], axis=1)\n",
    "y = housing['SalePrice']\n",
    "X_train, X_test, y_train, y_test = train_test_split(X, y, test_size=0.3)\n",
    "dmatrix_train = xgb.DMatrix(X_train, y_train)\n",
    "dmatrix_test = xgb.DMatrix(X_test, y_test)\n",
    "params = {'objective':'reg:squarederror', 'max_depth':5}\n",
    "xg_reg =xgb.train(dtrain=dmatrix_train, num_boost_round=5, params=params)\n",
    "y_preds  =xg_reg.predict(dmatrix_test)\n",
    "np.sqrt(mean_squared_error(y_test, y_preds))\n",
    "xgb.plot_importance(xg_reg);"
   ]
  },
  {
   "cell_type": "code",
   "execution_count": 161,
   "id": "b41be750-1e25-4252-b657-22189c620721",
   "metadata": {},
   "outputs": [
    {
     "data": {
      "text/plain": [
       "4    44921.474339\n",
       "Name: test-rmse-mean, dtype: float64"
      ]
     },
     "execution_count": 161,
     "metadata": {},
     "output_type": "execute_result"
    }
   ],
   "source": [
    "X = housing.drop(['MSZoning', 'BldgType', 'Neighborhood', 'HouseStyle', 'PavedDrive', 'LotFrontage', 'SalePrice'], axis=1)\n",
    "y = housing['SalePrice']\n",
    "X_train, X_test, y_train, y_test = train_test_split(X, y, test_size=0.3)\n",
    "dmatrix_train = xgb.DMatrix(X, y)\n",
    "# dmatrix_test = xgb.DMatrix(X_test, y_test)\n",
    "params = {'objective':'reg:squarederror', 'max_depth':5}\n",
    "cv_results =xgb.cv(dtrain=dmatrix_train, num_boost_round=5, params=params, metrics='rmse')\n",
    "cv_results['test-rmse-mean'].tail(1)\n",
    "# y_preds  =xg_reg.predict(dmatrix_test)\n",
    "# np.sqrt(mean_squared_error(y_test, y_preds))\n",
    "# xgb.plot_importance(xg_reg);"
   ]
  },
  {
   "cell_type": "code",
   "execution_count": null,
   "id": "e1ffd663-c433-4707-89b1-15f3b1315079",
   "metadata": {},
   "outputs": [],
   "source": []
  }
 ],
 "metadata": {
  "kernelspec": {
   "display_name": "Python 3",
   "language": "python",
   "name": "python3"
  },
  "language_info": {
   "codemirror_mode": {
    "name": "ipython",
    "version": 3
   },
   "file_extension": ".py",
   "mimetype": "text/x-python",
   "name": "python",
   "nbconvert_exporter": "python",
   "pygments_lexer": "ipython3",
   "version": "3.12.2"
  }
 },
 "nbformat": 4,
 "nbformat_minor": 5
}
